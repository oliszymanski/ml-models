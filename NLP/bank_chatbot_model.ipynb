{
 "cells": [
  {
   "cell_type": "code",
   "execution_count": 26,
   "metadata": {},
   "outputs": [],
   "source": [
    "import tensorflow as tf\n",
    "from tensorflow.keras.optimizers import Adam\n",
    "\n",
    "from transformers import TFBertForSequenceClassification, BertTokenizer\n",
    "\n",
    "import matplotlib.pyplot as plt"
   ]
  },
  {
   "cell_type": "markdown",
   "metadata": {},
   "source": [
    "### Training data, label ID's and model read"
   ]
  },
  {
   "cell_type": "code",
   "execution_count": 27,
   "metadata": {},
   "outputs": [],
   "source": [
    "training_data = [\n",
    "    {'text' : 'How is my financial health?', 'label': 'analyze_finances'},      # balance and financial tips\n",
    "    {'text' : 'What is my balance?', 'label': 'check_balance'},\n",
    "    {'text' : 'Give me tips to helpe me save up money', 'label': 'financial_tips'},\n",
    "\n",
    "    {'text' : 'How can I open a new account?', 'label': 'open_account'},        # account management\n",
    "    {'text' : 'Can I close my savings?', 'label' : 'close_account'},\n",
    "    { 'text' : 'How do I update my contact information?', 'label' : 'update_account_info' },\n",
    "    { 'text' : 'I want to change my account type.', 'label' : 'change_account_type' }\n",
    "]\n",
    "\n",
    "\n",
    "label_to_id = {\n",
    "    'analyze_finances' : 0,          # balance and financial tips\n",
    "    'check_balance' : 1,\n",
    "    'financial_tips' : 2,\n",
    "\n",
    "    'open_account' : 3,             # account management\n",
    "    'close_account' : 4,\n",
    "    'update_account_info' : 5,\n",
    "    'change_account_type' : 6\n",
    "}\n",
    "\n",
    "\n",
    "# load a tokenizer\n",
    "tokenizer = BertTokenizer.from_pretrained('bert-base-multilingual-uncased')\n",
    "texts = [ item['text'] for item in training_data ]\n",
    "labels = [  label_to_id[ item['label'] ] for item in training_data  ]\n",
    "\n",
    "inputs = tokenizer( texts, padding=True, truncation=True, return_tensors='tf' )\n",
    "labels = tf.constant( labels )\n",
    "\n",
    "inputs['labels'] = labels"
   ]
  },
  {
   "cell_type": "markdown",
   "metadata": {},
   "source": [
    "### Verifying that everything is working as it should"
   ]
  },
  {
   "cell_type": "code",
   "execution_count": 28,
   "metadata": {},
   "outputs": [
    {
     "name": "stdout",
     "output_type": "stream",
     "text": [
      "Input IDs: tf.Tensor(\n",
      "[[  101 12548 10127 11153 16869 13347   136   102     0     0     0     0]\n",
      " [  101 11523 10127 11153 31117   136   102     0     0     0     0     0]\n",
      " [  101 16118 10525 84408 10114 14743 10111 10525 21343 10700 15033   102]\n",
      " [  101 12548 10743   151 11481   143 10246 21157   136   102     0     0]\n",
      " [  101 10743   151 15130 11153 89933   136   102     0     0     0     0]\n",
      " [  101 12548 10154   151 24531 11153 19089 11285   136   102     0     0]\n",
      " [  101   151 16612 10114 13780 11153 21157 12340   119   102     0     0]], shape=(7, 12), dtype=int32)\n",
      "Attention Mask: tf.Tensor(\n",
      "[[1 1 1 1 1 1 1 1 0 0 0 0]\n",
      " [1 1 1 1 1 1 1 0 0 0 0 0]\n",
      " [1 1 1 1 1 1 1 1 1 1 1 1]\n",
      " [1 1 1 1 1 1 1 1 1 1 0 0]\n",
      " [1 1 1 1 1 1 1 1 0 0 0 0]\n",
      " [1 1 1 1 1 1 1 1 1 1 0 0]\n",
      " [1 1 1 1 1 1 1 1 1 1 0 0]], shape=(7, 12), dtype=int32)\n",
      "labels: [0 1 2 3 4 5 6]\n",
      "inputs: {'input_ids': <tf.Tensor: shape=(7, 12), dtype=int32, numpy=\n",
      "array([[  101, 12548, 10127, 11153, 16869, 13347,   136,   102,     0,\n",
      "            0,     0,     0],\n",
      "       [  101, 11523, 10127, 11153, 31117,   136,   102,     0,     0,\n",
      "            0,     0,     0],\n",
      "       [  101, 16118, 10525, 84408, 10114, 14743, 10111, 10525, 21343,\n",
      "        10700, 15033,   102],\n",
      "       [  101, 12548, 10743,   151, 11481,   143, 10246, 21157,   136,\n",
      "          102,     0,     0],\n",
      "       [  101, 10743,   151, 15130, 11153, 89933,   136,   102,     0,\n",
      "            0,     0,     0],\n",
      "       [  101, 12548, 10154,   151, 24531, 11153, 19089, 11285,   136,\n",
      "          102,     0,     0],\n",
      "       [  101,   151, 16612, 10114, 13780, 11153, 21157, 12340,   119,\n",
      "          102,     0,     0]], dtype=int32)>, 'token_type_ids': <tf.Tensor: shape=(7, 12), dtype=int32, numpy=\n",
      "array([[0, 0, 0, 0, 0, 0, 0, 0, 0, 0, 0, 0],\n",
      "       [0, 0, 0, 0, 0, 0, 0, 0, 0, 0, 0, 0],\n",
      "       [0, 0, 0, 0, 0, 0, 0, 0, 0, 0, 0, 0],\n",
      "       [0, 0, 0, 0, 0, 0, 0, 0, 0, 0, 0, 0],\n",
      "       [0, 0, 0, 0, 0, 0, 0, 0, 0, 0, 0, 0],\n",
      "       [0, 0, 0, 0, 0, 0, 0, 0, 0, 0, 0, 0],\n",
      "       [0, 0, 0, 0, 0, 0, 0, 0, 0, 0, 0, 0]], dtype=int32)>, 'attention_mask': <tf.Tensor: shape=(7, 12), dtype=int32, numpy=\n",
      "array([[1, 1, 1, 1, 1, 1, 1, 1, 0, 0, 0, 0],\n",
      "       [1, 1, 1, 1, 1, 1, 1, 0, 0, 0, 0, 0],\n",
      "       [1, 1, 1, 1, 1, 1, 1, 1, 1, 1, 1, 1],\n",
      "       [1, 1, 1, 1, 1, 1, 1, 1, 1, 1, 0, 0],\n",
      "       [1, 1, 1, 1, 1, 1, 1, 1, 0, 0, 0, 0],\n",
      "       [1, 1, 1, 1, 1, 1, 1, 1, 1, 1, 0, 0],\n",
      "       [1, 1, 1, 1, 1, 1, 1, 1, 1, 1, 0, 0]], dtype=int32)>, 'labels': <tf.Tensor: shape=(7,), dtype=int32, numpy=array([0, 1, 2, 3, 4, 5, 6], dtype=int32)>}\n"
     ]
    }
   ],
   "source": [
    "print(\"Input IDs:\", inputs['input_ids'])\n",
    "print(\"Attention Mask:\", inputs['attention_mask'])\n",
    "\n",
    "print( f'labels: {labels}' )\n",
    "\n",
    "print(f'inputs: {dict(inputs)}')"
   ]
  },
  {
   "cell_type": "markdown",
   "metadata": {},
   "source": [
    "### Fine-tuning the Model"
   ]
  },
  {
   "cell_type": "code",
   "execution_count": 29,
   "metadata": {},
   "outputs": [
    {
     "name": "stderr",
     "output_type": "stream",
     "text": [
      "All PyTorch model weights were used when initializing TFBertForSequenceClassification.\n",
      "\n",
      "Some weights or buffers of the TF 2.0 model TFBertForSequenceClassification were not initialized from the PyTorch model and are newly initialized: ['classifier.weight', 'classifier.bias']\n",
      "You should probably TRAIN this model on a down-stream task to be able to use it for predictions and inference.\n"
     ]
    },
    {
     "name": "stdout",
     "output_type": "stream",
     "text": [
      "Epoch 1/4\n",
      "1/1 [==============================] - 4s 4s/step - loss: 1.9589 - accuracy: 0.1429\n",
      "Epoch 2/4\n",
      "1/1 [==============================] - 0s 42ms/step - loss: 1.9582 - accuracy: 0.1429\n",
      "Epoch 3/4\n",
      "1/1 [==============================] - 0s 49ms/step - loss: 1.9366 - accuracy: 0.2857\n",
      "Epoch 4/4\n",
      "1/1 [==============================] - 0s 51ms/step - loss: 1.9328 - accuracy: 0.1429\n",
      "Epoch 1/15\n",
      "1/1 [==============================] - 8s 8s/step - loss: 1.9625 - accuracy: 0.0000e+00\n",
      "Epoch 2/15\n",
      "1/1 [==============================] - 1s 658ms/step - loss: 1.8798 - accuracy: 0.2857\n",
      "Epoch 3/15\n",
      "1/1 [==============================] - 1s 649ms/step - loss: 1.8187 - accuracy: 0.2857\n",
      "Epoch 4/15\n",
      "1/1 [==============================] - 1s 636ms/step - loss: 1.6781 - accuracy: 0.2857\n",
      "Epoch 5/15\n",
      "1/1 [==============================] - 1s 643ms/step - loss: 1.7508 - accuracy: 0.4286\n",
      "Epoch 6/15\n",
      "1/1 [==============================] - 1s 651ms/step - loss: 1.5066 - accuracy: 0.5714\n",
      "Epoch 7/15\n",
      "1/1 [==============================] - 1s 690ms/step - loss: 1.5006 - accuracy: 0.7143\n",
      "Epoch 8/15\n",
      "1/1 [==============================] - 1s 653ms/step - loss: 1.3555 - accuracy: 0.8571\n",
      "Epoch 9/15\n",
      "1/1 [==============================] - 1s 663ms/step - loss: 1.2603 - accuracy: 0.8571\n",
      "Epoch 10/15\n",
      "1/1 [==============================] - 1s 656ms/step - loss: 1.1642 - accuracy: 0.8571\n",
      "Epoch 11/15\n",
      "1/1 [==============================] - 1s 650ms/step - loss: 1.0510 - accuracy: 1.0000\n",
      "Epoch 12/15\n",
      "1/1 [==============================] - 1s 656ms/step - loss: 1.0522 - accuracy: 1.0000\n",
      "Epoch 13/15\n",
      "1/1 [==============================] - 1s 661ms/step - loss: 0.9611 - accuracy: 1.0000\n",
      "Epoch 14/15\n",
      "1/1 [==============================] - 1s 656ms/step - loss: 0.8804 - accuracy: 1.0000\n",
      "Epoch 15/15\n",
      "1/1 [==============================] - 1s 667ms/step - loss: 0.7684 - accuracy: 1.0000\n"
     ]
    }
   ],
   "source": [
    "model = TFBertForSequenceClassification.from_pretrained( 'bert-base-multilingual-uncased', num_labels=7, hidden_dropout_prob=0.1, classifier_dropout=0.1 )\n",
    "\n",
    "for layer in model.layers[:-1]:     # stage 0\n",
    "    layer.trainable = False\n",
    "\n",
    "model.compile( optimizer=Adam( learning_rate=1e-3 ), metrics=['accuracy'] )\n",
    "history_stage_0 = model.fit( inputs, batch_size=8, epochs=4 )\n",
    "\n",
    "\n",
    "for layer in model.layers:          # stage 1\n",
    "    layer.trainable = True\n",
    "\n",
    "model.compile( optimizer=Adam( learning_rate=5e-5 ), metrics=['accuracy'] )\n",
    "history_stage_1 = model.fit( inputs, batch_size=8, epochs=15 )"
   ]
  },
  {
   "cell_type": "markdown",
   "metadata": {},
   "source": [
    "### Model accuracy and history stages"
   ]
  },
  {
   "cell_type": "code",
   "execution_count": 30,
   "metadata": {},
   "outputs": [
    {
     "data": {
      "image/png": "[encoded data removed]",
      "text/plain": [
       "<Figure size 640x480 with 1 Axes>"
      ]
     },
     "metadata": {},
     "output_type": "display_data"
    }
   ],
   "source": [
    "combined_history_stages = {\n",
    "    'loss' : history_stage_0.history['loss'] + history_stage_1.history['loss'],\n",
    "    'accuracy' : history_stage_0.history['accuracy'] + history_stage_1.history['accuracy']\n",
    "}\n",
    "\n",
    "plt.plot( combined_history_stages['loss'], label='Training Loss', color='red' )\n",
    "plt.plot( combined_history_stages['accuracy'], label='Training Accuracy', color='blue' )\n",
    "plt.title( 'Model training' )\n",
    "plt.xlabel( 'Epoch' )\n",
    "plt.ylabel( 'Loss' )\n",
    "plt.legend()\n",
    "plt.grid()\n",
    "plt.show()"
   ]
  },
  {
   "cell_type": "markdown",
   "metadata": {},
   "source": [
    "### Handle intentions and backend logic"
   ]
  },
  {
   "cell_type": "code",
   "execution_count": 76,
   "metadata": {},
   "outputs": [
    {
     "name": "stdout",
     "output_type": "stream",
     "text": [
      "problematic_key: 4\n",
      "predicted intent: 4\n"
     ]
    },
    {
     "data": {
      "text/plain": [
       "('./banking_assistant_tokenizer/tokenizer_config.json',\n",
       " './banking_assistant_tokenizer/special_tokens_map.json',\n",
       " './banking_assistant_tokenizer/vocab.txt',\n",
       " './banking_assistant_tokenizer/added_tokens.json')"
      ]
     },
     "execution_count": 76,
     "metadata": {},
     "output_type": "execute_result"
    }
   ],
   "source": [
    "def predict_intent( user_input ):\n",
    "    inputs = tokenizer( user_input, return_tensors='tf', padding=True, truncation=True )\n",
    "\n",
    "    outputs = model( inputs )\n",
    "    predicted_label_idx = tf.argmax( outputs.logits, axis=1 ).numpy()[0]\n",
    "\n",
    "    try:\n",
    "        predicted_label = label_to_id[ predicted_label_idx ]\n",
    "    except KeyError as e:\n",
    "        problematic_key = e.args[0]\n",
    "        print(f'problematic_key: {problematic_key}')\n",
    "\n",
    "        return problematic_key\n",
    "\n",
    "\n",
    "predicted_label = predict_intent( 'Can I close my new account?' )\n",
    "print( f'predicted intent: { predicted_label }' )\n",
    "\n",
    "model.save_pretrained( './banking_assistant_model' )        # saving model with its tokenizer\n",
    "tokenizer.save_pretrained( './banking_assistant_tokenizer' )"
   ]
  }
 ],
 "metadata": {
  "kernelspec": {
   "display_name": "Python 3",
   "language": "python",
   "name": "python3"
  },
  "language_info": {
   "codemirror_mode": {
    "name": "ipython",
    "version": 3
   },
   "file_extension": ".py",
   "mimetype": "text/x-python",
   "name": "python",
   "nbconvert_exporter": "python",
   "pygments_lexer": "ipython3",
   "version": "3.10.12"
  }
 },
 "nbformat": 4,
 "nbformat_minor": 2
}
